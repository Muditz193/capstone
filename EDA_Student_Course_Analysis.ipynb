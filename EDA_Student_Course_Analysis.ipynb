{
 "cells": [
  {
   "cell_type": "markdown",
   "id": "e5c51b92",
   "metadata": {},
   "source": [
    "### What is the range of the data (time-wise)?"
   ]
  },
  {
   "cell_type": "code",
   "execution_count": 4,
   "id": "d851a2ac",
   "metadata": {},
   "outputs": [
    {
     "data": {
      "text/plain": [
       "(Timestamp('2014-09-02 00:00:00'), Timestamp('2022-08-03 00:00:00'))"
      ]
     },
     "execution_count": 4,
     "metadata": {},
     "output_type": "execute_result"
    }
   ],
   "source": [
    "\n",
    "import pandas as pd\n",
    "\n",
    "# Load the Excel file\n",
    "file_path = \"Template Data.xlsx\"\n",
    "xls = pd.ExcelFile(file_path)\n",
    "\n",
    "# Load the data\n",
    "df = pd.read_excel(xls, sheet_name='Sheet2')\n",
    "\n",
    "# Convert date columns to datetime format\n",
    "df['Start Date'] = pd.to_datetime(df['Start Date'])\n",
    "df['End Date'] = pd.to_datetime(df['End Date'])\n",
    "\n",
    "# Get the time range of the data\n",
    "time_range = df['Start Date'].min(), df['End Date'].max()\n",
    "time_range\n"
   ]
  },
  {
   "cell_type": "markdown",
   "id": "c78c6d4c",
   "metadata": {},
   "source": [
    "### Can we map a student to a course map?"
   ]
  },
  {
   "cell_type": "code",
   "execution_count": 6,
   "id": "d71a3cbb",
   "metadata": {},
   "outputs": [
    {
     "data": {
      "text/plain": [
       "count    354.000000\n",
       "mean      16.799435\n",
       "std        7.385531\n",
       "min        1.000000\n",
       "25%       13.000000\n",
       "50%       14.000000\n",
       "75%       25.000000\n",
       "max       41.000000\n",
       "Name: count, dtype: float64"
      ]
     },
     "execution_count": 6,
     "metadata": {},
     "output_type": "execute_result"
    }
   ],
   "source": [
    "\n",
    "# Check unique identifiers for students and courses\n",
    "student_id_col = \"Empl ID\"\n",
    "course_id_col = \"Class Nbr\"\n",
    "\n",
    "# Check if a student can be mapped to multiple courses\n",
    "student_course_mapping = df[[student_id_col, course_id_col]].drop_duplicates()\n",
    "\n",
    "# Count the number of courses per student\n",
    "courses_per_student = student_course_mapping[student_id_col].value_counts()\n",
    "\n",
    "# Display basic stats about student-course mapping\n",
    "courses_per_student.describe()\n"
   ]
  },
  {
   "cell_type": "markdown",
   "id": "f8171021",
   "metadata": {},
   "source": [
    "### Can it be brought into a simple data model?"
   ]
  },
  {
   "cell_type": "code",
   "execution_count": 8,
   "id": "403c93e7",
   "metadata": {},
   "outputs": [
    {
     "data": {
      "text/plain": [
       "(12,\n",
       " 17,\n",
       " count     17.000000\n",
       " mean      40.470588\n",
       " std       37.190586\n",
       " min        1.000000\n",
       " 25%       15.000000\n",
       " 50%       32.000000\n",
       " 75%       52.000000\n",
       " max      153.000000\n",
       " Name: Class Nbr, dtype: float64)"
      ]
     },
     "execution_count": 8,
     "metadata": {},
     "output_type": "execute_result"
    }
   ],
   "source": [
    "\n",
    "# Check unique programs and academic plans\n",
    "unique_programs = df[\"Prim Prog\"].nunique()\n",
    "unique_academic_plans = df[\"Acad Plan\"].nunique()\n",
    "\n",
    "# Count the number of courses per academic plan\n",
    "courses_per_academic_plan = df.groupby(\"Acad Plan\")[\"Class Nbr\"].nunique()\n",
    "\n",
    "# Display statistics\n",
    "unique_programs, unique_academic_plans, courses_per_academic_plan.describe()\n"
   ]
  },
  {
   "cell_type": "markdown",
   "id": "4b6b0905",
   "metadata": {},
   "source": [
    "### Are there 'odd' results where not expected (i.e. Marks)?"
   ]
  },
  {
   "cell_type": "code",
   "execution_count": 10,
   "id": "9e3169c1",
   "metadata": {},
   "outputs": [
    {
     "data": {
      "text/plain": [
       "(282,\n",
       "     Term  Class Nbr  Class Section Subject Catalog  \\\n",
       " 4   1221       4120            700    DBAS    3075   \n",
       " 26  1221       4120            700    DBAS    3075   \n",
       " 45  1218       4292            700    DBAS    2101   \n",
       " 56  1218       4292            700    DBAS    2101   \n",
       " 66  1218       2255            700    DBAS    2010   \n",
       " \n",
       "                      Course Title Start Date   End Date Instructor Name  \\\n",
       " 4   Intro to Statistical Learning 2022-01-06 2022-02-11      Smith,John   \n",
       " 26  Intro to Statistical Learning 2022-01-06 2022-02-11      Smith,John   \n",
       " 45                 Data Reporting 2021-10-21 2021-12-16      Smith,John   \n",
       " 56                 Data Reporting 2021-10-21 2021-12-16      Smith,John   \n",
       " 66             Database Design II 2021-11-10 2021-12-16      Smith,John   \n",
       " \n",
       "     Empl ID    Student Name  Official Grade Grading Basis Enrollment Dt  \\\n",
       " 4   1669518       Jose Mack            45.0           GRD    2021-12-01   \n",
       " 26  1659712     John Kramer            42.0           GRD    2021-12-01   \n",
       " 45  1670136  Derek Phillips            48.0           GRD    2021-08-12   \n",
       " 56  1375011      Terry Wood            49.0           GRD    2021-08-12   \n",
       " 66  1663606  William Taylor            43.0           GRD    2021-08-12   \n",
       " \n",
       "    Enrollment Status Enrollment Reason Prim Prog  Acad Plan Program Status  \n",
       " 4                  E              ENRL      BZIA  BZNTELADV             AC  \n",
       " 26                 E              ENRL      BZIA  BZNTELADV             AC  \n",
       " 45                 E              ENRL      BZIA  BZNTELADV             AC  \n",
       " 56                 E              ENRL      BZIA  BZNTELADV             AC  \n",
       " 66                 E              ENRL      BZIA  BZNTELADV             AC  )"
      ]
     },
     "execution_count": 10,
     "metadata": {},
     "output_type": "execute_result"
    }
   ],
   "source": [
    "\n",
    "# Identify outlier marks (e.g., grades that are unusually high or low)\n",
    "df['Official Grade'] = pd.to_numeric(df['Official Grade'], errors='coerce')\n",
    "\n",
    "q1 = df[\"Official Grade\"].quantile(0.25)\n",
    "q3 = df[\"Official Grade\"].quantile(0.75)\n",
    "iqr = q3 - q1\n",
    "\n",
    "# Define outliers as values outside 1.5 * IQR range\n",
    "lower_bound = q1 - 1.5 * iqr\n",
    "upper_bound = q3 + 1.5 * iqr\n",
    "\n",
    "outlier_marks = df[(df[\"Official Grade\"] < lower_bound) | (df[\"Official Grade\"] > upper_bound)]\n",
    "\n",
    "# Count and display outliers\n",
    "num_outliers = outlier_marks.shape[0]\n",
    "\n",
    "num_outliers, outlier_marks.head()\n"
   ]
  },
  {
   "cell_type": "markdown",
   "id": "d0bdd368",
   "metadata": {},
   "source": [
    "### Exception Reports: Failing Students, Incomplete Courses, etc."
   ]
  },
  {
   "cell_type": "code",
   "execution_count": 12,
   "id": "d8131c93",
   "metadata": {},
   "outputs": [
    {
     "data": {
      "text/plain": [
       "(92, 313)"
      ]
     },
     "execution_count": 12,
     "metadata": {},
     "output_type": "execute_result"
    }
   ],
   "source": [
    "\n",
    "# Identify failing students (grades < 60)\n",
    "failing_students = df[df[\"Official Grade\"] < 60]\n",
    "\n",
    "# Count failing students\n",
    "num_failing_students = failing_students[\"Empl ID\"].nunique()\n",
    "\n",
    "# Identify students with incomplete courses (null grade)\n",
    "incomplete_courses = df[df[\"Official Grade\"].isnull()]\n",
    "students_with_incomplete = incomplete_courses[\"Empl ID\"].nunique()\n",
    "\n",
    "num_failing_students, students_with_incomplete\n"
   ]
  },
  {
   "cell_type": "markdown",
   "id": "115d7701",
   "metadata": {},
   "source": [
    "### What are the average and standard deviation of marks for programs, courses, and students?"
   ]
  },
  {
   "cell_type": "code",
   "execution_count": 14,
   "id": "e5ff7742",
   "metadata": {},
   "outputs": [
    {
     "data": {
      "text/plain": [
       "(                mean        std\n",
       " Prim Prog                      \n",
       " BZIA       85.677215  13.942223\n",
       " CETN       76.909091  11.372101\n",
       " CYBR       83.541463  18.023903\n",
       " FSAD       93.571918   8.447837\n",
       " IFTG       58.071429  22.410383\n",
       " ITDA       88.164820  17.862916\n",
       " ITDB       86.726644  16.180782\n",
       " ITESP      93.546218   5.952848\n",
       " ITGE             NaN        NaN\n",
       " ITPR       81.536213  20.717616\n",
       " ITSM       87.629464  16.534692\n",
       " ITWP       85.857364  19.131243,\n",
       "                 mean        std\n",
       " Class Nbr                      \n",
       " 1663             NaN        NaN\n",
       " 1685       32.000000        NaN\n",
       " 1704             NaN        NaN\n",
       " 1876       75.400000  25.553306\n",
       " 1877       85.214286  17.603228\n",
       " ...              ...        ...\n",
       " 5710        5.000000        NaN\n",
       " 5711       73.000000        NaN\n",
       " 5712       66.000000        NaN\n",
       " 6354       87.000000        NaN\n",
       " 6472       80.500000  27.073973\n",
       " \n",
       " [555 rows x 2 columns],\n",
       "               mean        std\n",
       " Empl ID                      \n",
       " 1222238  94.095238   4.170189\n",
       " 1295297  68.166667   6.685579\n",
       " 1302582  79.666667  17.240940\n",
       " 1348411        NaN        NaN\n",
       " 1351756  62.071429  27.792790\n",
       " ...            ...        ...\n",
       " 1681006  86.538462  12.718853\n",
       " 1681239  93.916667   4.399552\n",
       " 1682365  87.833333   9.867455\n",
       " 1682420  94.833333   3.188521\n",
       " 1682735  84.333333   9.048020\n",
       " \n",
       " [354 rows x 2 columns])"
      ]
     },
     "execution_count": 14,
     "metadata": {},
     "output_type": "execute_result"
    }
   ],
   "source": [
    "\n",
    "# Calculate average and standard deviation of marks for programs, courses, and students\n",
    "avg_std_by_program = df.groupby(\"Prim Prog\")[\"Official Grade\"].agg([\"mean\", \"std\"])\n",
    "avg_std_by_course = df.groupby(\"Class Nbr\")[\"Official Grade\"].agg([\"mean\", \"std\"])\n",
    "avg_std_by_student = df.groupby(\"Empl ID\")[\"Official Grade\"].agg([\"mean\", \"std\"])\n",
    "\n",
    "avg_std_by_program, avg_std_by_course, avg_std_by_student\n"
   ]
  },
  {
   "cell_type": "markdown",
   "id": "831dc2c3",
   "metadata": {},
   "source": [
    "### Top Teachers and Courses with Failures or Incomplete PNP"
   ]
  },
  {
   "cell_type": "code",
   "execution_count": 16,
   "id": "ac53d6f1",
   "metadata": {},
   "outputs": [
    {
     "data": {
      "text/plain": [
       "(Instructor Name\n",
       " James,Jessie         31\n",
       " Cooke,Adeanna        24\n",
       " Kelly,Grace          24\n",
       " Gandhi,Mahatma       20\n",
       " King,Billie Jean     18\n",
       " Tian,Xiao            17\n",
       " McCartney,Paul       15\n",
       " Gates,William        14\n",
       " Jackson.Michael      12\n",
       " Lennon,John          11\n",
       " Darwin,Charles       11\n",
       " Einstein,Albert       9\n",
       " Orwell,George         9\n",
       " Coyote, Wiley         9\n",
       " Hitchcock.Alfred      8\n",
       " Smith,John            8\n",
       " Fudd, Elmer           8\n",
       " Steward,Rod           7\n",
       " Cruise,Tom            7\n",
       " Rutkowska,Joanna      7\n",
       " Cohen,Sacha Baron     7\n",
       " Wilson,Donna          4\n",
       " Presley,Elvis         3\n",
       " Jobs,Steve On         3\n",
       " Armstrong,Neil        3\n",
       " Branson,Richard       3\n",
       " Huxley,Aldous         2\n",
       " Pitt,Brad             1\n",
       " Murdoch,Rupert        1\n",
       " Drover,Franklin       1\n",
       " Thatcher,Margaret     1\n",
       " Wales,Jimmy           1\n",
       " Walesa,Lech           1\n",
       " Andrews,Julie         1\n",
       " dtype: int64,\n",
       " Class Nbr\n",
       " 4291    6\n",
       " 3314    4\n",
       " 4344    4\n",
       " 4296    4\n",
       " 3323    4\n",
       "        ..\n",
       " 3894    1\n",
       " 3891    1\n",
       " 3819    1\n",
       " 3818    1\n",
       " 6472    1\n",
       " Length: 189, dtype: int64,\n",
       " Class Nbr\n",
       " 1964    30\n",
       " 2369    21\n",
       " 2167    21\n",
       " 2116    20\n",
       " 1946    18\n",
       "         ..\n",
       " 3958     1\n",
       " 1685     1\n",
       " 3960     1\n",
       " 3967     1\n",
       " 3959     1\n",
       " Length: 333, dtype: int64)"
      ]
     },
     "execution_count": 16,
     "metadata": {},
     "output_type": "execute_result"
    }
   ],
   "source": [
    "\n",
    "# Identify top teachers with failures or incomplete courses\n",
    "top_teachers_failures = df[df[\"Official Grade\"] < 60].groupby(\"Instructor Name\").size().sort_values(ascending=False)\n",
    "\n",
    "# Identify top courses with failures or incompletes\n",
    "top_courses_failures = df[df[\"Official Grade\"] < 60].groupby(\"Class Nbr\").size().sort_values(ascending=False)\n",
    "\n",
    "# Identify courses with the most failing or incomplete grades\n",
    "top_courses_failing_or_incomplete = df[df[\"Official Grade\"].isnull() | (df[\"Official Grade\"] < 60)]     .groupby(\"Class Nbr\").size().sort_values(ascending=False)\n",
    "\n",
    "top_teachers_failures, top_courses_failures, top_courses_failing_or_incomplete\n"
   ]
  }
 ],
 "metadata": {
  "kernelspec": {
   "display_name": "Python 3 (ipykernel)",
   "language": "python",
   "name": "python3"
  },
  "language_info": {
   "codemirror_mode": {
    "name": "ipython",
    "version": 3
   },
   "file_extension": ".py",
   "mimetype": "text/x-python",
   "name": "python",
   "nbconvert_exporter": "python",
   "pygments_lexer": "ipython3",
   "version": "3.12.7"
  }
 },
 "nbformat": 4,
 "nbformat_minor": 5
}
